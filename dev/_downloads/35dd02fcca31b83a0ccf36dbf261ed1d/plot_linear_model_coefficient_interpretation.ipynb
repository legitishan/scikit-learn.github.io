{
  "cells": [
    {
      "cell_type": "code",
      "execution_count": null,
      "metadata": {
        "collapsed": false
      },
      "outputs": [],
      "source": [
        "%matplotlib inline"
      ]
    },
    {
      "cell_type": "markdown",
      "metadata": {},
      "source": [
        "\n# Common pitfalls in interpretation of coefficients of linear models\n\n\nLinear models describe situations in which the target value is expected to be\na linear combination of the features (see the `linear_model` User Guide\nsection for a description of a set of linear model methods available in\nscikit-learn).\nCoefficients in multiple linear models represent the relationship between the\ngiven feature, $X_i$ and the target, $y$, assuming that all the\nother features remain constant (`conditional dependence\n<https://en.wikipedia.org/wiki/Conditional_dependence>`_).\nThis is different from plotting $X_i$ versus $y$ and fitting a\nlinear relationship: in that case all possible values of the other features are\ntaken into account in the estimation (marginal dependence).\n\nThis example will provide some hints in interpreting coefficient in linear\nmodels, pointing at problems that arise when either the linear model is not\nappropriate to describe the dataset, or when features are correlated.\n\nWe will use data from the `\"Current Population Survey\"\n<https://www.openml.org/d/534>`_ from 1985 to predict\nwage as a function of various features such as experience, age, or education.\n   :depth: 1\n"
      ]
    },
    {
      "cell_type": "code",
      "execution_count": null,
      "metadata": {
        "collapsed": false
      },
      "outputs": [],
      "source": [
        "print(__doc__)\n\nimport numpy as np\nimport scipy as sp\nimport pandas as pd\nimport matplotlib.pyplot as plt\nimport seaborn as sns"
      ]
    },
    {
      "cell_type": "markdown",
      "metadata": {},
      "source": [
        "The dataset: wages\n------------------\n\nWe fetch the data from `OpenML <http://openml.org/>`_.\nNote that setting the parameter `as_frame` to True will retrieve the data\nas a pandas dataframe.\n\n"
      ]
    },
    {
      "cell_type": "code",
      "execution_count": null,
      "metadata": {
        "collapsed": false
      },
      "outputs": [],
      "source": [
        "from sklearn.datasets import fetch_openml\n\nsurvey = fetch_openml(data_id=534, as_frame=True)"
      ]
    },
    {
      "cell_type": "markdown",
      "metadata": {},
      "source": [
        "Then, we identify features `X` and targets `y`: the column WAGE is our\ntarget variable (i.e., the variable which we want to predict).\n\n\n"
      ]
    },
    {
      "cell_type": "code",
      "execution_count": null,
      "metadata": {
        "collapsed": false
      },
      "outputs": [],
      "source": [
        "X = survey.data[survey.feature_names]\nX.describe(include=\"all\")"
      ]
    },
    {
      "cell_type": "markdown",
      "metadata": {},
      "source": [
        "Notice that the dataset contains categorical and numerical variables.\nThis will give us directions on how to preprocess the data thereafter.\n\n"
      ]
    },
    {
      "cell_type": "code",
      "execution_count": null,
      "metadata": {
        "collapsed": false
      },
      "outputs": [],
      "source": [
        "X.head()"
      ]
    },
    {
      "cell_type": "markdown",
      "metadata": {},
      "source": [
        "Our target for prediction: the wage.\nWages are described as floating-point number in dollars per hour.\n\n"
      ]
    },
    {
      "cell_type": "code",
      "execution_count": null,
      "metadata": {
        "collapsed": false
      },
      "outputs": [],
      "source": [
        "y = survey.target.values.ravel()\nsurvey.target.head()"
      ]
    },
    {
      "cell_type": "markdown",
      "metadata": {},
      "source": [
        "We split the sample into a train and a test dataset.\nOnly the train dataset will be used in the following exploratory analysis.\nThis is a way to emulate a real situation where predictions are performed on\nan unknown target, and we don't want our analysis and decisions to be biased\nby our knowledge of the test data.\n\n"
      ]
    },
    {
      "cell_type": "code",
      "execution_count": null,
      "metadata": {
        "collapsed": false
      },
      "outputs": [],
      "source": [
        "from sklearn.model_selection import train_test_split\n\nX_train, X_test, y_train, y_test = train_test_split(\n    X, y, random_state=42\n)"
      ]
    },
    {
      "cell_type": "markdown",
      "metadata": {},
      "source": [
        "First, let's get some insights by looking at the variable distributions and\nat the pairwise relationships between them. Only numerical\nvariables will be used. In the following plot, each dot represents a sample.\n\n\n"
      ]
    },
    {
      "cell_type": "code",
      "execution_count": null,
      "metadata": {
        "collapsed": false
      },
      "outputs": [],
      "source": [
        "train_dataset = X_train.copy()\ntrain_dataset.insert(0, \"WAGE\", y_train)\n_ = sns.pairplot(train_dataset, kind='reg', diag_kind='kde')"
      ]
    },
    {
      "cell_type": "markdown",
      "metadata": {},
      "source": [
        "Looking closely at the WAGE distribution it could be noticed that it has a\nlong tail and we could take its logarithm\nto simplify our problem and approximate a normal distribution.\nThe WAGE is increasing when EDUCATION is increasing.\nIt should be noted that the dependence between WAGE and EDUCATION\nrepresented here is a marginal dependence, i.e., it describe the behavior\nof a specific variable without fixing the others.\nAlso, the EXPERIENCE and AGE are linearly correlated.\n\n\nThe machine-learning pipeline\n-----------------------------\n\nTo design our machine-learning pipeline, we manually\ncheck the type of data that we are dealing with:\n\n"
      ]
    },
    {
      "cell_type": "code",
      "execution_count": null,
      "metadata": {
        "collapsed": false
      },
      "outputs": [],
      "source": [
        "survey.data.info()"
      ]
    },
    {
      "cell_type": "markdown",
      "metadata": {},
      "source": [
        "As seen previously, the dataset contains columns with different data types\nand we need to apply a specific preprocessing for each data types.\nIn particular categorical variables cannot be included in linear model if not\ncoded as integers first. In addition, to avoid categorical features to be\ntreated as ordered values, we need to one-hot-encode them.\nOur pre-processor will\n\n- one-hot encode (i.e., generate a column by category) the categorical\n  columns;\n- as a first approach (we will see after how the normalisation of numerical\n  values will affect our discussion), keep numerical values as they are.\n\n"
      ]
    },
    {
      "cell_type": "code",
      "execution_count": null,
      "metadata": {
        "collapsed": false
      },
      "outputs": [],
      "source": [
        "from sklearn.compose import make_column_transformer\nfrom sklearn.preprocessing import OneHotEncoder\n\ncategorical_columns = ['RACE', 'OCCUPATION', 'SECTOR',\n                       'MARR', 'UNION', 'SEX', 'SOUTH']\nnumerical_columns = ['EDUCATION', 'EXPERIENCE', 'AGE']\n\npreprocessor = make_column_transformer(\n    (OneHotEncoder(drop='if_binary'), categorical_columns),\n    remainder='passthrough'\n)"
      ]
    },
    {
      "cell_type": "markdown",
      "metadata": {},
      "source": [
        "To describe the dataset as a linear model we choose to use a ridge regressor\nwith a very small regularization and to model the logarithm of the WAGE.\n\n"
      ]
    },
    {
      "cell_type": "code",
      "execution_count": null,
      "metadata": {
        "collapsed": false
      },
      "outputs": [],
      "source": [
        "from sklearn.pipeline import make_pipeline\nfrom sklearn.linear_model import Ridge\nfrom sklearn.compose import TransformedTargetRegressor\n\nmodel = make_pipeline(\n    preprocessor,\n    TransformedTargetRegressor(\n        regressor=Ridge(alpha=1e-10),\n        func=np.log10,\n        inverse_func=sp.special.exp10\n    )\n)"
      ]
    },
    {
      "cell_type": "markdown",
      "metadata": {},
      "source": [
        "Processing the dataset\n----------------------\n\nFirst, we fit the model.\n\n"
      ]
    },
    {
      "cell_type": "code",
      "execution_count": null,
      "metadata": {
        "collapsed": false
      },
      "outputs": [],
      "source": [
        "_ = model.fit(X_train, y_train)"
      ]
    },
    {
      "cell_type": "markdown",
      "metadata": {},
      "source": [
        "Then we check the performance of the computed model plotting its predictions\non the test set and computing,\nfor example, the median absolute error of the model.\n\n"
      ]
    },
    {
      "cell_type": "code",
      "execution_count": null,
      "metadata": {
        "collapsed": false
      },
      "outputs": [],
      "source": [
        "from sklearn.metrics import median_absolute_error\n\ny_pred = model.predict(X_train)\n\nmae = median_absolute_error(y_train, y_pred)\nstring_score = f'MAE on training set: {mae:.2f} $/hour'\ny_pred = model.predict(X_test)\nmae = median_absolute_error(y_test, y_pred)\nstring_score += f'\\nMAE on testing set: {mae:.2f} $/hour'\nfig, ax = plt.subplots(figsize=(5, 5))\nplt.scatter(y_test, y_pred)\nax.plot([0, 1], [0, 1], transform=ax.transAxes, ls=\"--\", c=\"red\")\nplt.text(3, 20, string_score)\nplt.title('Ridge model, small regularization')\nplt.ylabel('Model predictions')\nplt.xlabel('Truths')\nplt.xlim([0, 27])\n_ = plt.ylim([0, 27])"
      ]
    },
    {
      "cell_type": "markdown",
      "metadata": {},
      "source": [
        "The model learnt is far from being a good model making accurate predictions:\nthis is obvious when looking at the plot above, where good predictions\nshould lie on the red line.\nIn the following section, we will interpret the coefficients of the model.\nWhile we do so, we should keep in mind that any conclusion we way draw will\nbe about\nthe model that we build, rather than about the true (real-world) generative\nprocess of the data.\n\nInterpreting coefficients: scale matters\n---------------------------------------------\n\nFirst of all, we can take a look to the values of the coefficients of the\nregressor we have fitted.\n\n"
      ]
    },
    {
      "cell_type": "code",
      "execution_count": null,
      "metadata": {
        "collapsed": false
      },
      "outputs": [],
      "source": [
        "feature_names = (model.named_steps['columntransformer']\n                      .named_transformers_['onehotencoder']\n                      .get_feature_names(input_features=categorical_columns))\nfeature_names = np.concatenate(\n    [feature_names, numerical_columns])\n\ncoefs = pd.DataFrame(\n    model.named_steps['transformedtargetregressor'].regressor_.coef_,\n    columns=['Coefficients'], index=feature_names\n)\n\ncoefs"
      ]
    },
    {
      "cell_type": "markdown",
      "metadata": {},
      "source": [
        "The AGE coefficient is expressed in \"dollars/hour per living years\" while the\nEDUCATION one is expressed in \"dollars/hour per years of education\". This\nrepresentation of the coefficients has the advantage of making clear the\npractical predictions of the model: an increase of $1$ year in AGE\nmeans a decrease of $0.030867$ dollars/hour, while an increase of\n$1$ year in EDUCATION means an increase of $0.054699$\ndollars/hour. On the other hand, categorical variables (as UNION or SEX) are\nadimensional numbers taking either the value 0 or 1. Their coefficients\nare expressed in dollars/hour. Then, we cannot compare the magnitude of\ndifferent coefficients since the features have different natural scales, and\nhence value ranges, because of their different unit of measure. This is more\nevident if we plot the coefficients.\n\n"
      ]
    },
    {
      "cell_type": "code",
      "execution_count": null,
      "metadata": {
        "collapsed": false
      },
      "outputs": [],
      "source": [
        "coefs.plot(kind='barh', figsize=(9, 7))\nplt.title('Ridge model, small regularization')\nplt.axvline(x=0, color='.5')\nplt.subplots_adjust(left=.3)"
      ]
    },
    {
      "cell_type": "markdown",
      "metadata": {},
      "source": [
        "Indeed, from the plot above the most important factor in determining WAGE\nappears to be the\nvariable UNION, even if it is plausible that variables like EXPERIENCE\nshould have more impact.\nLooking at the coefficient plot to extrapolate feature importance could be\nmisleading as some of them vary on a small scale, while others, like AGE,\nvaries a lot more, several decades.\nThis is evident if we compare feature standard deviations.\n\n"
      ]
    },
    {
      "cell_type": "code",
      "execution_count": null,
      "metadata": {
        "collapsed": false
      },
      "outputs": [],
      "source": [
        "X_train_preprocessed = pd.DataFrame(\n    model.named_steps['columntransformer'].transform(X_train),\n    columns=feature_names\n)\n\nX_train_preprocessed.std(axis=0).plot(kind='barh', figsize=(9, 7))\nplt.title('Features std. dev.')\nplt.subplots_adjust(left=.3)"
      ]
    },
    {
      "cell_type": "markdown",
      "metadata": {},
      "source": [
        "Multiplying the coefficients by the standard deviation of the related\nfeature would reduce all the coefficients to the same unit of measure.\nAs we will see `after<scaling_num>` this is equivalent to normalize\nnumerical variables to their standard deviation,\nas $y = \\sum{coef_i \\times X_i} =\n\\sum{(coef_i \\times std_i) \\times (X_i / std_i)}$.\n\nIn that way, we emphasize that the\ngreater the variance of a feature, the larger the weight of the corresponding\ncoefficient on the output, all else being equal.\n\n"
      ]
    },
    {
      "cell_type": "code",
      "execution_count": null,
      "metadata": {
        "collapsed": false
      },
      "outputs": [],
      "source": [
        "coefs = pd.DataFrame(\n    model.named_steps['transformedtargetregressor'].regressor_.coef_ *\n    X_train_preprocessed.std(axis=0),\n    columns=['Coefficient importance'], index=feature_names\n)\ncoefs.plot(kind='barh', figsize=(9, 7))\nplt.title('Ridge model, small regularization')\nplt.axvline(x=0, color='.5')\nplt.subplots_adjust(left=.3)"
      ]
    },
    {
      "cell_type": "markdown",
      "metadata": {},
      "source": [
        "Now that the coefficients have been scaled, we can safely compare them.\n\n<div class=\"alert alert-danger\"><h4>Warning</h4><p>Why does the plot above suggest that an increase in age leads to a\n  decrease in wage? Why the `initial pairplot\n  <marginal_dependencies>` is telling the opposite?</p></div>\n\nThe plot above tells us about dependencies between a specific feature and\nthe target when all other features remain constant, i.e., **conditional\ndependencies**. An increase of the AGE will induce a decrease\nof the WAGE when all other features remain constant. On the contrary, an\nincrease of the EXPERIENCE will induce an increase of the WAGE when all\nother features remain constant.\nAlso, AGE, EXPERIENCE and EDUCATION are the three variables that most\ninfluence the model.\n\nChecking the variability of the coefficients\n--------------------------------------------\n\nWe can check the coefficient variability through cross-validation.\nIf coefficients vary in a significant way changing the input dataset\ntheir robustness is not guaranteed, and they should probably be interpreted\nwith caution.\n\n"
      ]
    },
    {
      "cell_type": "code",
      "execution_count": null,
      "metadata": {
        "collapsed": false
      },
      "outputs": [],
      "source": [
        "from sklearn.model_selection import cross_validate\nfrom sklearn.model_selection import RepeatedKFold\n\ncv_model = cross_validate(\n    model, X, y, cv=RepeatedKFold(n_splits=5, n_repeats=5),\n    return_estimator=True, n_jobs=-1\n)\ncoefs = pd.DataFrame(\n    [est.named_steps['transformedtargetregressor'].regressor_.coef_ *\n     X_train_preprocessed.std(axis=0)\n     for est in cv_model['estimator']],\n    columns=feature_names\n)\nplt.figure(figsize=(9, 7))\nsns.swarmplot(data=coefs, orient='h', color='k', alpha=0.5)\nsns.boxplot(data=coefs, orient='h', color='cyan', saturation=0.5)\nplt.axvline(x=0, color='.5')\nplt.xlabel('Coefficient importance')\nplt.title('Coefficient importance and its variability')\nplt.subplots_adjust(left=.3)"
      ]
    },
    {
      "cell_type": "markdown",
      "metadata": {},
      "source": [
        "The problem of correlated variables\n-----------------------------------\n\nThe AGE and EXPERIENCE coefficients are affected by strong variability which\nmight be due to the collinearity between the 2 features: as AGE and\nEXPERIENCE vary together in the data, their effect is difficult to tease\napart.\nTo verify this interpretation we plot the variability of the AGE and\nEXPERIENCE coefficient.\n\n\n"
      ]
    },
    {
      "cell_type": "code",
      "execution_count": null,
      "metadata": {
        "collapsed": false
      },
      "outputs": [],
      "source": [
        "plt.ylabel('Age coefficient')\nplt.xlabel('Experience coefficient')\nplt.grid(True)\nplt.xlim(-0.4, 0.5)\nplt.ylim(-0.4, 0.5)\nplt.scatter(coefs[\"AGE\"], coefs[\"EXPERIENCE\"])\n_ = plt.title('Co-variations of coefficients for AGE and EXPERIENCE '\n              'across folds')"
      ]
    },
    {
      "cell_type": "markdown",
      "metadata": {},
      "source": [
        "Two regions are populated: when the EXPERIENCE coefficient is\npositive the AGE one is negative and viceversa.\n\nTo go further we remove one of the 2 features and check what is the impact\non the model stability.\n\n"
      ]
    },
    {
      "cell_type": "code",
      "execution_count": null,
      "metadata": {
        "collapsed": false
      },
      "outputs": [],
      "source": [
        "column_to_drop = ['AGE']\n\ncv_model = cross_validate(\n    model, X.drop(columns=column_to_drop), y,\n    cv=RepeatedKFold(n_splits=5, n_repeats=5),\n    return_estimator=True, n_jobs=-1\n)\ncoefs = pd.DataFrame(\n    [est.named_steps['transformedtargetregressor'].regressor_.coef_ *\n     X_train_preprocessed.drop(columns=column_to_drop).std(axis=0)\n     for est in cv_model['estimator']],\n    columns=feature_names[:-1]\n)\nplt.figure(figsize=(9, 7))\nsns.swarmplot(data=coefs, orient='h', color='k', alpha=0.5)\nsns.boxplot(data=coefs, orient='h', color='cyan', saturation=0.5)\nplt.axvline(x=0, color='.5')\nplt.title('Coefficient importance and its variability')\nplt.xlabel('Coefficient importance')\nplt.subplots_adjust(left=.3)"
      ]
    },
    {
      "cell_type": "markdown",
      "metadata": {},
      "source": [
        "The estimation of the EXPERIENCE coefficient is now less variable and\nremain important for all models trained during cross-validation.\n\n\nPreprocessing numerical variables\n---------------------------------\n\nAs said above (see \"`the-pipeline`\"), we could also choose to scale\nnumerical values before training the model.\nThis can be useful to apply a similar amount regularization to all of them\nin the Ridge.\nThe preprocessor is redefined in order to subtract the mean and scale\nvariables to unit variance.\n\n"
      ]
    },
    {
      "cell_type": "code",
      "execution_count": null,
      "metadata": {
        "collapsed": false
      },
      "outputs": [],
      "source": [
        "from sklearn.preprocessing import StandardScaler\n\npreprocessor = make_column_transformer(\n    (OneHotEncoder(drop='if_binary'), categorical_columns),\n    (StandardScaler(), numerical_columns),\n    remainder='passthrough'\n)"
      ]
    },
    {
      "cell_type": "markdown",
      "metadata": {},
      "source": [
        "The model will stay unchanged.\n\n"
      ]
    },
    {
      "cell_type": "code",
      "execution_count": null,
      "metadata": {
        "collapsed": false
      },
      "outputs": [],
      "source": [
        "model = make_pipeline(\n    preprocessor,\n    TransformedTargetRegressor(\n        regressor=Ridge(alpha=1e-10),\n        func=np.log10,\n        inverse_func=sp.special.exp10\n    )\n)\n\n_ = model.fit(X_train, y_train)"
      ]
    },
    {
      "cell_type": "markdown",
      "metadata": {},
      "source": [
        "Again, we check the performance of the computed\nmodel using, for example, the median absolute error of the model and the R\nsquared coefficient.\n\n"
      ]
    },
    {
      "cell_type": "code",
      "execution_count": null,
      "metadata": {
        "collapsed": false
      },
      "outputs": [],
      "source": [
        "y_pred = model.predict(X_train)\nmae = median_absolute_error(y_train, y_pred)\nstring_score = f'MAE on training set: {mae:.2f} $/hour'\ny_pred = model.predict(X_test)\nmae = median_absolute_error(y_test, y_pred)\nstring_score += f'\\nMAE on testing set: {mae:.2f} $/hour'\nfig, ax = plt.subplots(figsize=(6, 6))\nplt.scatter(y_test, y_pred)\nax.plot([0, 1], [0, 1], transform=ax.transAxes, ls=\"--\", c=\"red\")\n\nplt.text(3, 20, string_score)\n\nplt.title('Ridge model, small regularization, normalized variables')\nplt.ylabel('Model predictions')\nplt.xlabel('Truths')\nplt.xlim([0, 27])\n_ = plt.ylim([0, 27])"
      ]
    },
    {
      "cell_type": "markdown",
      "metadata": {},
      "source": [
        "For the coefficient analysis, scaling is not needed this time.\n\n"
      ]
    },
    {
      "cell_type": "code",
      "execution_count": null,
      "metadata": {
        "collapsed": false
      },
      "outputs": [],
      "source": [
        "coefs = pd.DataFrame(\n    model.named_steps['transformedtargetregressor'].regressor_.coef_,\n    columns=['Coefficients'], index=feature_names\n)\ncoefs.plot(kind='barh', figsize=(9, 7))\nplt.title('Ridge model, small regularization, normalized variables')\nplt.axvline(x=0, color='.5')\nplt.subplots_adjust(left=.3)"
      ]
    },
    {
      "cell_type": "markdown",
      "metadata": {},
      "source": [
        "We cross validate the coefficients.\n\n"
      ]
    },
    {
      "cell_type": "code",
      "execution_count": null,
      "metadata": {
        "collapsed": false
      },
      "outputs": [],
      "source": [
        "cv_model = cross_validate(\n    model, X, y, cv=RepeatedKFold(n_splits=5, n_repeats=5),\n    return_estimator=True, n_jobs=-1\n)\ncoefs = pd.DataFrame(\n    [est.named_steps['transformedtargetregressor'].regressor_.coef_\n     for est in cv_model['estimator']],\n    columns=feature_names\n)\nplt.figure(figsize=(9, 7))\nsns.swarmplot(data=coefs, orient='h', color='k', alpha=0.5)\nsns.boxplot(data=coefs, orient='h', color='cyan', saturation=0.5)\nplt.axvline(x=0, color='.5')\nplt.title('Coefficient variability')\nplt.subplots_adjust(left=.3)"
      ]
    },
    {
      "cell_type": "markdown",
      "metadata": {},
      "source": [
        "The result is quite similar to the non-normalized case.\n\nLinear models with regularization\n---------------------------------\n\nIn machine-learning practice, Ridge Regression is more often used with\nnon-negligible regularization.\nAbove, we limited this regularization to a very little amount.\nRegularization improves the conditioning of the problem and reduces the\nvariance of the estimates. RidgeCV applies cross validation in order to\ndetermine which value of the regularization parameter (`alpha`) is best\nsuited for the model estimation.\n\n"
      ]
    },
    {
      "cell_type": "code",
      "execution_count": null,
      "metadata": {
        "collapsed": false
      },
      "outputs": [],
      "source": [
        "from sklearn.linear_model import RidgeCV\n\nmodel = make_pipeline(\n    preprocessor,\n    TransformedTargetRegressor(\n        regressor=RidgeCV(alphas=np.logspace(-10, 10, 21)),\n        func=np.log10,\n        inverse_func=sp.special.exp10\n    )\n)\n\n_ = model.fit(X_train, y_train)"
      ]
    },
    {
      "cell_type": "markdown",
      "metadata": {},
      "source": [
        "First we verify which value of $\\alpha$ has been selected.\n\n"
      ]
    },
    {
      "cell_type": "code",
      "execution_count": null,
      "metadata": {
        "collapsed": false
      },
      "outputs": [],
      "source": [
        "model[-1].regressor_.alpha_"
      ]
    },
    {
      "cell_type": "markdown",
      "metadata": {},
      "source": [
        "Then we check the quality of the predictions.\n\n"
      ]
    },
    {
      "cell_type": "code",
      "execution_count": null,
      "metadata": {
        "collapsed": false
      },
      "outputs": [],
      "source": [
        "y_pred = model.predict(X_train)\nmae = median_absolute_error(y_train, y_pred)\nstring_score = f'MAE on training set: {mae:.2f} $/hour'\ny_pred = model.predict(X_test)\nmae = median_absolute_error(y_test, y_pred)\nstring_score += f'\\nMAE on testing set: {mae:.2f} $/hour'\n\nfig, ax = plt.subplots(figsize=(6, 6))\nplt.scatter(y_test, y_pred)\nax.plot([0, 1], [0, 1], transform=ax.transAxes, ls=\"--\", c=\"red\")\n\nplt.text(3, 20, string_score)\n\nplt.title('Ridge model, regularization, normalized variables')\nplt.ylabel('Model predictions')\nplt.xlabel('Truths')\nplt.xlim([0, 27])\n_ = plt.ylim([0, 27])"
      ]
    },
    {
      "cell_type": "markdown",
      "metadata": {},
      "source": [
        "The ability to reproduce the data of the regularized model is similar to\nthe one of the non-regularized model.\n\n"
      ]
    },
    {
      "cell_type": "code",
      "execution_count": null,
      "metadata": {
        "collapsed": false
      },
      "outputs": [],
      "source": [
        "coefs = pd.DataFrame(\n    model.named_steps['transformedtargetregressor'].regressor_.coef_,\n    columns=['Coefficients'], index=feature_names\n)\ncoefs.plot(kind='barh', figsize=(9, 7))\nplt.title('Ridge model, regularization, normalized variables')\nplt.axvline(x=0, color='.5')\nplt.subplots_adjust(left=.3)"
      ]
    },
    {
      "cell_type": "markdown",
      "metadata": {},
      "source": [
        "The coefficients are significantly different.\nAGE and EXPERIENCE coefficients are both positive but they have less\ninfluence on the prediction.\nThe regularization manages to lower the influence of correlated\nvariables on the model because the weight is shared between the two\npredictive variables, so neither alone would be very strongly weighted.\nOn the other hand, those weights are more robust with respect to\ncross validation (see the `ridge_regression` User Guide section),\nas is shown in the plot below to be compared with the\n`previous one<covariation>`.\n\n"
      ]
    },
    {
      "cell_type": "code",
      "execution_count": null,
      "metadata": {
        "collapsed": false
      },
      "outputs": [],
      "source": [
        "cv_model = cross_validate(\n    model, X, y, cv=RepeatedKFold(n_splits=5, n_repeats=5),\n    return_estimator=True, n_jobs=-1\n)\ncoefs = pd.DataFrame(\n    [est.named_steps['transformedtargetregressor'].regressor_.coef_ *\n     X_train_preprocessed.std(axis=0)\n     for est in cv_model['estimator']],\n    columns=feature_names\n)\n\nplt.ylabel('Age coefficient')\nplt.xlabel('Experience coefficient')\nplt.grid(True)\nplt.xlim(-0.4, 0.5)\nplt.ylim(-0.4, 0.5)\nplt.scatter(coefs[\"AGE\"], coefs[\"EXPERIENCE\"])\n_ = plt.title('Co-variations of coefficients for AGE and EXPERIENCE '\n              'across folds')"
      ]
    },
    {
      "cell_type": "markdown",
      "metadata": {},
      "source": [
        "Linear models with sparse coefficients\n--------------------------------------\n\nAnother possibility to take into account correlated variables in the dataset,\nis to estimate sparse coefficients. In some way we already did it manually\nwhen we dropped the AGE column in a previous Ridge estimation.\n\nLasso models (see the `lasso` User Guide section) estimates sparse\ncoefficients. LassoCV applies cross validation in order to\ndetermine which value of the regularization parameter (`alpha`) is best\nsuited for the model estimation.\n\n"
      ]
    },
    {
      "cell_type": "code",
      "execution_count": null,
      "metadata": {
        "collapsed": false
      },
      "outputs": [],
      "source": [
        "from sklearn.linear_model import LassoCV\n\nmodel = make_pipeline(\n    preprocessor,\n    TransformedTargetRegressor(\n        regressor=LassoCV(alphas=np.logspace(-10, 10, 21), max_iter=100000),\n        func=np.log10,\n        inverse_func=sp.special.exp10\n    )\n)\n\n_ = model.fit(X_train, y_train)"
      ]
    },
    {
      "cell_type": "markdown",
      "metadata": {},
      "source": [
        "First we verify which value of $\\alpha$ has been selected.\n\n"
      ]
    },
    {
      "cell_type": "code",
      "execution_count": null,
      "metadata": {
        "collapsed": false
      },
      "outputs": [],
      "source": [
        "model[-1].regressor_.alpha_"
      ]
    },
    {
      "cell_type": "markdown",
      "metadata": {},
      "source": [
        "Then we check the quality of the predictions.\n\n"
      ]
    },
    {
      "cell_type": "code",
      "execution_count": null,
      "metadata": {
        "collapsed": false
      },
      "outputs": [],
      "source": [
        "y_pred = model.predict(X_train)\nmae = median_absolute_error(y_train, y_pred)\nstring_score = f'MAE on training set: {mae:.2f} $/hour'\ny_pred = model.predict(X_test)\nmae = median_absolute_error(y_test, y_pred)\nstring_score += f'\\nMAE on testing set: {mae:.2f} $/hour'\n\nfig, ax = plt.subplots(figsize=(6, 6))\nplt.scatter(y_test, y_pred)\nax.plot([0, 1], [0, 1], transform=ax.transAxes, ls=\"--\", c=\"red\")\n\nplt.text(3, 20, string_score)\n\nplt.title('Lasso model, regularization, normalized variables')\nplt.ylabel('Model predictions')\nplt.xlabel('Truths')\nplt.xlim([0, 27])\n_ = plt.ylim([0, 27])"
      ]
    },
    {
      "cell_type": "markdown",
      "metadata": {},
      "source": [
        "For our dataset, again the model is not very predictive.\n\n"
      ]
    },
    {
      "cell_type": "code",
      "execution_count": null,
      "metadata": {
        "collapsed": false
      },
      "outputs": [],
      "source": [
        "coefs = pd.DataFrame(\n    model.named_steps['transformedtargetregressor'].regressor_.coef_,\n    columns=['Coefficients'], index=feature_names\n)\ncoefs.plot(kind='barh', figsize=(9, 7))\nplt.title('Lasso model, regularization, normalized variables')\nplt.axvline(x=0, color='.5')\nplt.subplots_adjust(left=.3)"
      ]
    },
    {
      "cell_type": "markdown",
      "metadata": {},
      "source": [
        "A Lasso model identifies the correlation between\nAGE and EXPERIENCE and suppresses one of them for the sake of the prediction.\n\nLessons learned\n---------------\n\n* Feature importance could be extrapolated from the coefficients only after\n  having scaled them to the same unit of measure.\n* Coefficients in multiple linear models represent conditional dependencies\n  between a given feature and the target.\n* Correlated features induce variability in the coefficients of linear\n  models.\n* Different linear models respond differently to feature correlation and\n  coefficients could significantly vary from one another.\n\n"
      ]
    }
  ],
  "metadata": {
    "kernelspec": {
      "display_name": "Python 3",
      "language": "python",
      "name": "python3"
    },
    "language_info": {
      "codemirror_mode": {
        "name": "ipython",
        "version": 3
      },
      "file_extension": ".py",
      "mimetype": "text/x-python",
      "name": "python",
      "nbconvert_exporter": "python",
      "pygments_lexer": "ipython3",
      "version": "3.8.1"
    }
  },
  "nbformat": 4,
  "nbformat_minor": 0
}